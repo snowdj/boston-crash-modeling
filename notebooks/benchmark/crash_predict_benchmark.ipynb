{
 "cells": [
  {
   "cell_type": "markdown",
   "metadata": {},
   "source": [
    "## Benchmark Model for crash prediction\n",
    "### Developed by: bpben\n",
    "#### Details steps of data processing, feature engineering and model tuning/testing for crash and road data"
   ]
  },
  {
   "cell_type": "code",
   "execution_count": 1,
   "metadata": {
    "collapsed": true
   },
   "outputs": [],
   "source": [
    "import re\n",
    "import csv\n",
    "import numpy as np\n",
    "import pandas as pd\n",
    "import matplotlib.pyplot as plt\n",
    "%matplotlib inline\n",
    "import seaborn as sns\n",
    "import scipy.stats as ss\n",
    "from glob import glob\n",
    "from sklearn.metrics import classification_report\n",
    "from sklearn.preprocessing import StandardScaler\n",
    "from scipy.stats import describe"
   ]
  },
  {
   "cell_type": "markdown",
   "metadata": {},
   "source": [
    "Helpers for tuning/testing models, available [here](https://github.com/bpben/model_helpers) as well"
   ]
  },
  {
   "cell_type": "code",
   "execution_count": 2,
   "metadata": {},
   "outputs": [
    {
     "name": "stderr",
     "output_type": "stream",
     "text": [
      "/Users/B/anaconda/envs/boston-crash-model/lib/python2.7/site-packages/sklearn/cross_validation.py:44: DeprecationWarning: This module was deprecated in version 0.18 in favor of the model_selection module into which all the refactored classes and functions are moved. Also note that the interface of the new CV iterators are different from that of this module. This module will be removed in 0.20.\n",
      "  \"This module will be removed in 0.20.\", DeprecationWarning)\n"
     ]
    }
   ],
   "source": [
    "import numpy as np\n",
    "import pandas as pd\n",
    "import sklearn.ensemble as ske\n",
    "import sklearn.svm as svm\n",
    "import sklearn.linear_model as skl\n",
    "import xgboost as xgb\n",
    "import seaborn as sns\n",
    "import matplotlib.pyplot as plt\n",
    "from sklearn import metrics\n",
    "from sklearn.model_selection import RandomizedSearchCV, KFold, StratifiedKFold, GroupKFold, GroupShuffleSplit\n",
    "from sklearn.calibration import CalibratedClassifierCV\n",
    "from sklearn.preprocessing import StandardScaler\n",
    "\n",
    "class Indata():\n",
    "    scoring = None\n",
    "    data = None\n",
    "    train_x, train_y, test_x, test_y = None, None, None, None\n",
    "    is_split = 0\n",
    "    \n",
    "    #init with pandas DF and target column name, specify scoring observations\n",
    "    def __init__(self, data, target, scoring=None):\n",
    "        #If scoring observations, store under scoring attribute\n",
    "        if scoring is not None:\n",
    "            self.data = data[~(scoring)]\n",
    "            self.scoring = data[scoring]\n",
    "        else:\n",
    "            self.data = data\n",
    "        self.target = target\n",
    "    \n",
    "    # Split into train/test\n",
    "    # pct : percent training observations\n",
    "    # datesort : specify date column for sorting values\n",
    "    #   If this is not None, split will be non-random (i.e. split on sorted obs)\n",
    "    def tr_te_split(self, pct, datesort=None, group_col=None):\n",
    "        \"\"\"\n",
    "        Split into train/test\n",
    "        pct : percent training observations\n",
    "        datesort : specify date column for sorting values\n",
    "            If this is not None, split will be non-random (i.e. split on sorted obs)\n",
    "        group_col : group column name for groupkfold split\n",
    "            Will also be passed to tuner\n",
    "        \"\"\"\n",
    "        if group_col:\n",
    "            self.group_col = group_col\n",
    "            grouper = GroupShuffleSplit(n_splits=1, train_size=pct)\n",
    "            g = grouper.split(self.data, groups=self.data[group_col])\n",
    "            # get the actual indexes of the training set\n",
    "            inds, _ = tuple(*g)\n",
    "            # translate that into boolean array\n",
    "            inds = self.data.index[inds]\n",
    "            inds = self.data.index.isin(inds)\n",
    "        elif datesort:\n",
    "            self.data.sort_values(datesort, inplace=True)\n",
    "            self.data.reset_index(drop=True, inplace=True)\n",
    "            inds = np.arange(0.0,len(self.data)) / len(self.data) < pct\n",
    "        else:\n",
    "            inds = np.random.rand(len(self.data)) < pct\n",
    "        self.train_x = self.data[inds]\n",
    "        print 'Train obs:', len(self.train_x)\n",
    "        self.train_y = self.data[self.target][inds]\n",
    "        self.test_x = self.data[~inds]\n",
    "        print 'Test obs:', len(self.test_x)\n",
    "        self.test_y = self.data[self.target][~inds]\n",
    "        self.is_split = 1\n",
    "        \n",
    "class Tuner():\n",
    "    \"\"\"\n",
    "    Initiates with indata class, will tune series of models according to parameters.  \n",
    "    Outputs RandomizedGridCV results and parameterized model in dictionary\n",
    "    \"\"\"\n",
    "    \n",
    "    data = None\n",
    "    train_x, train_y = None, None\n",
    "    group_col = None\n",
    "    \n",
    "    def __init__(self, indata, best_models=None, grid_results=None):\n",
    "        if indata.is_split == 0:\n",
    "            raise ValueError('Data is not split, cannot be tested')\n",
    "        # check if grouped by some column\n",
    "        if hasattr(indata,'group_col'):\n",
    "            self.group_col = indata.group_col\n",
    "        self.data = indata.data\n",
    "        self.train_x = indata.train_x\n",
    "        self.train_y = indata.train_y\n",
    "        if best_models is None:\n",
    "            self.best_models = {}\n",
    "        if grid_results is None:\n",
    "            self.grid_results = pd.DataFrame()\n",
    "        \n",
    "            \n",
    "    def make_grid(self, model, cvparams, mparams):\n",
    "        #Makes CV grid\n",
    "        # to implement, no capability for GroupKFold for randomizedsearch\n",
    "        #if self.group_col:\n",
    "            #cv = GroupKFold(cvparams['folds'])\n",
    "        grid = RandomizedSearchCV(\n",
    "                    model(),scoring=cvparams['pmetric'], \n",
    "                    cv = KFold(cvparams['folds'], cvparams['shuffle']),\n",
    "                    refit=False, n_iter=cvparams['iter'],\n",
    "                    param_distributions=mparams, verbose=1)\n",
    "        return(grid)\n",
    "    \n",
    "    def run_grid(self, grid, train_x, train_y):\n",
    "        grid.fit(train_x, train_y)\n",
    "        results = pd.DataFrame(grid.cv_results_)[['mean_test_score','mean_train_score','params']]\n",
    "        best = {}\n",
    "        best['bp'] = grid.best_params_\n",
    "        best[grid.scoring] = grid.best_score_\n",
    "        return(best, results)\n",
    "            \n",
    "    def tune(self, name, m_name, features, cvparams, mparams):\n",
    "        if hasattr(ske, m_name):\n",
    "            model = getattr(ske, m_name)\n",
    "        elif hasattr(skl, m_name):\n",
    "            model = getattr(skl, m_name)\n",
    "        elif hasattr(xgb, m_name):\n",
    "            model = getattr(xgb, m_name)\n",
    "        elif hasattr(svm, m_name):\n",
    "            model = getattr(svm, m_name)\n",
    "        else:\n",
    "            raise ValueError('Model name is invalid.')\n",
    "        grid = self.make_grid(model, cvparams, mparams)\n",
    "        best, results = self.run_grid(grid, self.train_x[features], self.train_y)\n",
    "        results['name'] = name\n",
    "        results['m_name'] = m_name\n",
    "        self.grid_results = self.grid_results.append(results)\n",
    "        best['model'] = model(**best['bp'])\n",
    "        best['features'] = list(features)\n",
    "        self.best_models.update({name: best}) \n",
    "        \n",
    "class Tester():\n",
    "    \"\"\"\n",
    "    Initiates with indata class, receives parameterized sklearn models, prints and stores results\n",
    "    \"\"\"\n",
    "    \n",
    "    def __init__(self, data, rundict=None):\n",
    "        if data.is_split == 0 :\n",
    "            raise ValueError('Data is not split, cannot be tested')\n",
    "        else:\n",
    "            self.data = data\n",
    "            if rundict is None:\n",
    "                self.rundict = {}\n",
    "            \n",
    "    def init_tuned(self, tuned):\n",
    "        \"\"\" pass Tuner object, populatest with names, models, features \"\"\"\n",
    "        if tuned.best_models=={}:\n",
    "            raise ValueError('No tuned models found')\n",
    "        else:\n",
    "            self.rundict.update(tuned.best_models)\n",
    "    \n",
    "    def predsprobs(self, model, test_x):\n",
    "        \"\"\" Produce predicted class and probabilities \"\"\"\n",
    "        # if the model doesn't have predict proba, will be treated as GLM\n",
    "        if hasattr(model, 'predict_proba'):\n",
    "            preds = model.predict(test_x)\n",
    "            probs = model.predict_proba(test_x)[:,1]\n",
    "        else:\n",
    "            probs = model.predict(test_x)\n",
    "            preds = (probs>=.5).astype(int)\n",
    "        return(preds, probs)\n",
    "    \n",
    "    def get_metrics(self, preds, probs, test_y):\n",
    "        \"\"\" Produce metrics (f1 score, AUC, brier) \"\"\"\n",
    "        # if test is not binary, just run brier\n",
    "        if len(np.unique(test_y))==2:\n",
    "            f1_s = metrics.f1_score(test_y, preds)\n",
    "            roc = metrics.roc_auc_score(test_y, probs)\n",
    "        else:\n",
    "            f1_s, roc = None, None\n",
    "        brier = metrics.brier_score_loss(test_y, probs)\n",
    "        return(f1_s, roc, brier)\n",
    "    \n",
    "    def make_result(self, model, test_x, test_y):\n",
    "        \"\"\" gets predictions and runs metrics \"\"\"\n",
    "        preds, probs = self.predsprobs(model, test_x)\n",
    "        f1_s, roc, brier = self.get_metrics(preds, probs, test_y)\n",
    "        print \"f1_score: \", f1_s\n",
    "        print \"roc auc: \", roc\n",
    "        print \"brier_score: \", brier\n",
    "        result = {}\n",
    "        result['f1_s'] = f1_s\n",
    "        result['roc'] = roc\n",
    "        result['brier'] = brier\n",
    "        return(result)\n",
    "\n",
    "    \n",
    "    def run_model(self, name, model, features, cal=True, cal_m='sigmoid'):\n",
    "        \"\"\"\n",
    "        Run a specific model (not from Tuner classs)\n",
    "        By default, calibrates predictions and produces metrics for them\n",
    "        Will also store in rundict object\n",
    "        \"\"\"\n",
    "\n",
    "        results = {}\n",
    "        results['features'] = list(features)\n",
    "        results['model'] = model\n",
    "        print \"Fitting {} model with {} features\".format(name, len(features))\n",
    "        if cal:\n",
    "            # Need disjoint calibration/training datasets\n",
    "            # Split 50/50\n",
    "            rnd_ind = np.random.rand(len(self.data.train_x)) < .5\n",
    "            train_x = self.data.train_x[features][rnd_ind]\n",
    "            train_y = self.data.train_y[rnd_ind]\n",
    "            cal_x = self.data.train_x[features][~rnd_ind]\n",
    "            cal_y = self.data.train_y[~rnd_ind]\n",
    "        else:\n",
    "            train_x = self.data.train_x[features]\n",
    "            train_y = self.data.train_y\n",
    "\n",
    "        m_fit = model.fit(train_x, train_y)\n",
    "        result = self.make_result(\n",
    "            m_fit,\n",
    "            self.data.test_x[features],\n",
    "            self.data.test_y)\n",
    "\n",
    "        results['raw'] = result\n",
    "        results['m_fit'] = m_fit\n",
    "        if cal:\n",
    "            print \"calibrated:\"\n",
    "            m_c = CalibratedClassifierCV(model, method = cal_m)\n",
    "            m_fit_c = m_c.fit(cal_x, cal_y)\n",
    "            result_c = self.make_result(m_fit_c, self.data.test_x[features], self.data.test_y)\n",
    "            results['calibrated'] = result_c              \n",
    "            print \"\\n\"\n",
    "        if name in self.rundict:\n",
    "            self.rundict[name].update(results)\n",
    "        else:\n",
    "            self.rundict.update({name:results})\n",
    "    \n",
    "    def run_tuned(self, name, cal=True, cal_m='sigmoid'):\n",
    "        \"\"\" Wrapper for run_model when using Tuner object \"\"\"\n",
    "        self.run_model(name, self.rundict[name]['model'], self.rundict[name]['features'], cal, cal_m)"
   ]
  },
  {
   "cell_type": "markdown",
   "metadata": {},
   "source": [
    "### Data processing\n",
    "The approach here is to create 3 time-lag features:\n",
    "\n",
    "1. crashes in the past week\n",
    "2. crashes in the past month\n",
    "3. crashes in the past quarter (three months)\n",
    "4. average crashes per week up to target week\n",
    "\n",
    "All features except 4 are calculated to exclude one another.  That is, crashes in the past month does not include the past week's crashes.  Crashes in the past quarter do not include the past month."
   ]
  },
  {
   "cell_type": "code",
   "execution_count": 72,
   "metadata": {
    "collapsed": true
   },
   "outputs": [],
   "source": [
    "SEG_CHARS = ['AADT', 'SPEEDLIMIT', 'Struct_Cnd', 'Surface_Tp', 'F_F_Class']"
   ]
  },
  {
   "cell_type": "code",
   "execution_count": 73,
   "metadata": {
    "collapsed": true
   },
   "outputs": [],
   "source": [
    "# Read in data\n",
    "data = pd.read_csv('../../data/processed/vz_predict_dataset.csv.gz', compression='gzip', dtype={'segment_id':'str'})\n",
    "data.sort_values(['segment_id', 'year', 'week'], inplace=True)"
   ]
  },
  {
   "cell_type": "code",
   "execution_count": 173,
   "metadata": {
    "collapsed": true
   },
   "outputs": [],
   "source": [
    "# get segments with non-zero crashes\n",
    "data_nonzero = data.set_index('segment_id').loc[data.groupby('segment_id').crash.sum()>0]\n",
    "data_nonzero.reset_index(inplace=True)"
   ]
  },
  {
   "cell_type": "code",
   "execution_count": 174,
   "metadata": {
    "collapsed": true
   },
   "outputs": [],
   "source": [
    "def format_crash_data(data, col, target_week, target_year):\n",
    "    \"\"\" formats crash data for train/test \n",
    "    target_week: week to predict (make into binary target)\n",
    "    target_year: year for predicted week\n",
    "    note: data must be available for 4 months prior to target\n",
    "    gets previous week count, previous month count, previous quarter count, avg per week\n",
    "    \"\"\"\n",
    "    assert target_week>16\n",
    "    pre_week = target_week - 1\n",
    "    pre_month = range(pre_week-4, target_week)\n",
    "    pre_quarter = range(pre_month[0]-12, target_week)\n",
    "    \n",
    "    # week interval for each segment\n",
    "    # full range = pre_quarter : target\n",
    "    sliced = data.loc[(slice(None),slice(target_year,target_year), slice(1, target_week)),:]\n",
    "    week_data = sliced[col].unstack(2)\n",
    "    week_data.reset_index(level=1, inplace=True)\n",
    "    \n",
    "    # aggregate\n",
    "    week_data['pre_month'] = week_data[pre_month].sum(axis=1)\n",
    "    week_data['pre_quarter'] = week_data[pre_quarter].sum(axis=1)\n",
    "    week_data['pre_week'] = week_data[pre_week]\n",
    "\n",
    "    # avg as of target week\n",
    "    except_target = data.loc[(slice(None),\n",
    "                       slice(target_year,target_year),\n",
    "                       slice(target_week,None)),:].index\n",
    "    avg_week = data.drop(except_target)\n",
    "    avg_week = avg_week.reset_index().groupby('segment_id')[col].mean()\n",
    "    avg_week.name = 'avg_week'\n",
    "    # join to week data\n",
    "    week_data = week_data.join(avg_week)\n",
    "\n",
    "    # binarize target\n",
    "    week_data['target'] = (week_data[target_week]>0).astype(int)\n",
    "    week_data = week_data.reset_index()\n",
    "\n",
    "    return(week_data[['segment_id','target', 'pre_week',\n",
    "                      'pre_month', 'pre_quarter', 'avg_week']])"
   ]
  },
  {
   "cell_type": "code",
   "execution_count": 175,
   "metadata": {
    "collapsed": true
   },
   "outputs": [],
   "source": [
    "# simple add concern, any concern reported 2016\n",
    "concern_observed = data_nonzero[data_nonzero.year==2016].groupby('segment_id').concern.max()\n",
    "concern_observed.name = 'concern_observed'"
   ]
  },
  {
   "cell_type": "code",
   "execution_count": 176,
   "metadata": {
    "collapsed": true
   },
   "outputs": [],
   "source": [
    "crash_lags = format_crash_data(data_nonzero.set_index(['segment_id','year','week']), 'crash', 19, 2017)"
   ]
  },
  {
   "cell_type": "code",
   "execution_count": 177,
   "metadata": {
    "collapsed": true
   },
   "outputs": [],
   "source": [
    "data_segs = data_nonzero.groupby('segment_id')[SEG_CHARS].max()  # grab the highest values from each column for a segment, not used in model?\n",
    "data_segs.reset_index(inplace=True)"
   ]
  },
  {
   "cell_type": "code",
   "execution_count": 70,
   "metadata": {},
   "outputs": [],
   "source": [
    "# add in atrs\n",
    "atrs = pd.read_csv('../../data/processed/atrs_predicted.csv', dtype={'id':'str'})\n",
    "# for some reason pandas reads the id as float before str conversions\n",
    "atrs['id'] = atrs.id.apply(lambda x: x.split('.')[0])\n",
    "data_segs = data_segs.merge(atrs[['id','speed_coalesced', 'volume_coalesced']], \n",
    "                            left_on='segment_id', right_on='id')"
   ]
  },
  {
   "cell_type": "code",
   "execution_count": 71,
   "metadata": {},
   "outputs": [],
   "source": [
    "# add in tmcs - conflicts\n",
    "# it either has some or doesn't\n",
    "# I think just filling na = 0 should work for now\n",
    "tmcs = pd.read_json('../../data/processed/tmc_summary.json',\n",
    "                   dtype={'near_id':str})[['near_id','Conflict']]\n",
    "data_segs = data_segs.merge(tmcs, left_on='segment_id', right_on='near_id', how='left')\n",
    "data_segs.Conflict.fillna(0, inplace=True)\n"
   ]
  },
  {
   "cell_type": "code",
   "execution_count": 157,
   "metadata": {
    "collapsed": true
   },
   "outputs": [],
   "source": [
    "data_model = crash_lags.merge(data_segs, left_on='segment_id', right_on='segment_id')"
   ]
  },
  {
   "cell_type": "code",
   "execution_count": 158,
   "metadata": {
    "collapsed": true
   },
   "outputs": [],
   "source": [
    "# add concerns\n",
    "data_model = data_model.merge(concern_observed.reset_index(), on='segment_id')"
   ]
  },
  {
   "cell_type": "code",
   "execution_count": 130,
   "metadata": {
    "collapsed": true
   },
   "outputs": [],
   "source": [
    "# Add in adjacency info\n",
    "adj_info = pd.read_csv('../../data/processed/adjacency_info.csv', usecols=['segment_id', 'orig_id'],\n",
    "                       dtype={'segment_id':'str', 'orig_id':'str'})\n",
    "\n",
    "# link adjacent segments for segments with crashes\n",
    "adj_info = adj_info[adj_info.segment_id.isin(data_model.segment_id)]\n",
    "adj_mat = adj_info.merge(adj_info, on='orig_id')\n",
    "adj_mat = adj_mat[['segment_id_x', 'segment_id_y']]\n",
    "adj_mat.drop_duplicates(inplace=True)\n",
    "# including segments with only self-adjacent\n",
    "# for this, need to ensure they don't join to their own data\n",
    "adj_mat.loc[adj_mat.segment_id_x==adj_mat.segment_id_y, 'segment_id_y'] = np.NaN\n",
    "\n",
    "def get_adj_crash_lags(target_week, target_year):\n",
    "    \"\"\"calculate total number of crashes that occurred \n",
    "    in adjacent segments for target week and lags as defined in format_crash_data\n",
    "    \"\"\" \n",
    "    lag_data = format_crash_data(data_nonzero.set_index(['segment_id','year','week']), 'crash', target_week, target_year)\n",
    "    merge_lags = adj_mat.merge(lag_data, left_on='segment_id_y', right_on='segment_id', how='left')\n",
    "    adj_lags = merge_lags.groupby(['segment_id_x'])['pre_week', 'pre_month', 'pre_quarter'].sum()\n",
    "    return adj_lags\n",
    "\n",
    "adj_lags = get_adj_crash_lags(19, 2017)"
   ]
  },
  {
   "cell_type": "code",
   "execution_count": 108,
   "metadata": {
    "collapsed": true
   },
   "outputs": [],
   "source": [
    "# fill those with only self-adj zero\n",
    "adj_lags.fillna(0, inplace=True)"
   ]
  },
  {
   "cell_type": "code",
   "execution_count": 109,
   "metadata": {
    "collapsed": true
   },
   "outputs": [],
   "source": [
    "data_model = data_model.merge(adj_lags, how='left', left_on='segment_id', right_index=True, suffixes=('', '_adj'))\n",
    "data_model.fillna(0, inplace=True)"
   ]
  },
  {
   "cell_type": "code",
   "execution_count": 110,
   "metadata": {
    "collapsed": true
   },
   "outputs": [],
   "source": [
    "# standardize for LR\n",
    "#from sklearn.preprocessing import scale\n",
    "#data_scaled = pd.DataFrame(scale(data_model['AADT', 'SPEEDLIMIT']), \n",
    "#                          columns=[f+'_scaled' for f in features])\n",
    "#data_model = pd.concat([data_model, data_scaled], axis=1)"
   ]
  },
  {
   "cell_type": "code",
   "execution_count": 131,
   "metadata": {},
   "outputs": [],
   "source": [
    "# trying a different feature set\n",
    "dummy_att = ['SPEEDLIMIT', 'Struct_Cnd', 'Surface_Tp', 'F_F_Class']\n",
    "for d in dummy_att:\n",
    "    t = pd.get_dummies(data_model[d])\n",
    "    t.columns = [d+str(c) for c in t.columns]\n",
    "    data_model = pd.concat([data_model, t], axis=1)\n",
    "# aadt - log-transform\n",
    "data_model['log_aadt'] = np.log(data_model.AADT+1)\n",
    "# add segment type\n",
    "data_model['intersection'] = data_model.segment_id.map(lambda x: x[:2]!='00').astype(int)\n",
    "# features\n",
    "features = data_model.filter(regex='[0-9]').columns.tolist() + ['log_aadt', 'intersection']"
   ]
  },
  {
   "cell_type": "code",
   "execution_count": 132,
   "metadata": {
    "collapsed": true
   },
   "outputs": [],
   "source": [
    "# Features\n",
    "#features = [u'pre_week', u'pre_month', u'pre_quarter', 'avg_week', u'AADT', u'SPEEDLIMIT',\n",
    "#            u'Struct_Cnd', u'Surface_Tp', u'F_F_Class', u'pre_week_adj', \n",
    "#            u'pre_month_adj', u'pre_quarter_adj']\n",
    "features += [u'pre_week', u'pre_month', u'pre_quarter', 'avg_week', 'concern_observed']\n",
    "#features += ['speed_coalesced', 'volume_coalesced']\n",
    "#features += ['Conflict']\n",
    "lm_features = list(set(features) - set(['SPEEDLIMIT1', 'Struct_Cnd0', 'F_F_Class0']))"
   ]
  },
  {
   "cell_type": "code",
   "execution_count": 178,
   "metadata": {},
   "outputs": [],
   "source": [
    "features = [u'pre_week', u'pre_month', u'pre_quarter', 'avg_week', 'concern_observed']\n",
    "lm_features = [u'pre_week', u'pre_month', u'pre_quarter', 'avg_week', 'concern_observed']"
   ]
  },
  {
   "cell_type": "markdown",
   "metadata": {},
   "source": [
    "### Model tuning\n",
    "This uses the model helpers above.  They're based on sklearn and implement a randomized grid search with K-fold crossvalidation."
   ]
  },
  {
   "cell_type": "code",
   "execution_count": 188,
   "metadata": {},
   "outputs": [
    {
     "name": "stdout",
     "output_type": "stream",
     "text": [
      "Train obs: 2283\n",
      "Test obs: 1026\n"
     ]
    }
   ],
   "source": [
    "#Initialize data\n",
    "df = Indata(data_model, 'target')\n",
    "#Create train/test split\n",
    "df.tr_te_split(.7)"
   ]
  },
  {
   "cell_type": "code",
   "execution_count": 189,
   "metadata": {
    "collapsed": true
   },
   "outputs": [],
   "source": [
    "#Parameters for model\n",
    "# class weight\n",
    "a = data_model['target'].value_counts(normalize=True)\n",
    "w = 1/a[1]\n",
    "#Model parameters\n",
    "params = dict()\n",
    "\n",
    "#cv parameters\n",
    "cvp = dict()\n",
    "cvp['pmetric'] = 'roc_auc'\n",
    "cvp['iter'] = 5 #number of iterations\n",
    "cvp['folds'] = 5 #folds for cv (default)\n",
    "cvp['shuffle'] = True\n",
    "\n",
    "#LR parameters\n",
    "mp = dict()\n",
    "mp['LogisticRegression'] = dict()\n",
    "mp['LogisticRegression']['penalty'] = ['l1','l2']\n",
    "mp['LogisticRegression']['C'] = ss.beta(a=5,b=2) #beta distribution for selecting reg strength\n",
    "mp['LogisticRegression']['class_weight'] = ['balanced']\n",
    "\n",
    "#RF model parameters\n",
    "mp['RandomForestClassifier'] = dict()\n",
    "mp['RandomForestClassifier']['n_estimators'] = [2**8] #number of trees in the forest\n",
    "mp['RandomForestClassifier']['max_features'] = ss.beta(a=5,b=1) #number of features at split\n",
    "mp['RandomForestClassifier']['max_leaf_nodes'] = ss.nbinom(n=2,p=0.001,loc=100) #max number of leaves to create\n",
    "#mp['RandomForestClassifier']['class_weight'] = ['balanced']\n",
    "mp['RandomForestClassifier']['class_weight'] = [{0:1,1:w}]\n",
    "\n",
    "\n",
    "#xgBoost model parameters\n",
    "mp['XGBClassifier'] = dict()\n",
    "mp['XGBClassifier']['max_depth'] = range(3, 7)\n",
    "mp['XGBClassifier']['min_child_weight'] = range(1, 5)\n",
    "mp['XGBClassifier']['learning_rate'] = ss.beta(a=2,b=15)\n",
    "mp['XGBClassifier']['scale_pos_weight'] = [w]"
   ]
  },
  {
   "cell_type": "code",
   "execution_count": 190,
   "metadata": {
    "collapsed": true
   },
   "outputs": [],
   "source": [
    "#Initialize tuner\n",
    "tune = Tuner(df)"
   ]
  },
  {
   "cell_type": "code",
   "execution_count": 191,
   "metadata": {},
   "outputs": [
    {
     "name": "stdout",
     "output_type": "stream",
     "text": [
      "Fitting 5 folds for each of 5 candidates, totalling 25 fits\n"
     ]
    },
    {
     "name": "stderr",
     "output_type": "stream",
     "text": [
      "[Parallel(n_jobs=1)]: Done  25 out of  25 | elapsed:    1.4s finished\n"
     ]
    }
   ],
   "source": [
    "#Base XG model\n",
    "tune.tune('XG_base', 'XGBClassifier', features, cvp, mp['XGBClassifier'])"
   ]
  },
  {
   "cell_type": "code",
   "execution_count": 192,
   "metadata": {},
   "outputs": [
    {
     "name": "stdout",
     "output_type": "stream",
     "text": [
      "Fitting 5 folds for each of 5 candidates, totalling 25 fits\n"
     ]
    },
    {
     "name": "stderr",
     "output_type": "stream",
     "text": [
      "[Parallel(n_jobs=1)]: Done  25 out of  25 | elapsed:   28.9s finished\n"
     ]
    }
   ],
   "source": [
    "#Base RF model\n",
    "tune.tune('RF_base', 'RandomForestClassifier', features, cvp, mp['RandomForestClassifier'])"
   ]
  },
  {
   "cell_type": "code",
   "execution_count": 193,
   "metadata": {},
   "outputs": [
    {
     "name": "stdout",
     "output_type": "stream",
     "text": [
      "Fitting 5 folds for each of 5 candidates, totalling 25 fits\n"
     ]
    },
    {
     "name": "stderr",
     "output_type": "stream",
     "text": [
      "[Parallel(n_jobs=1)]: Done  25 out of  25 | elapsed:    0.4s finished\n"
     ]
    }
   ],
   "source": [
    "#Base LR model\n",
    "tune.tune('LR_base', 'LogisticRegression', lm_features, cvp, mp['LogisticRegression'])"
   ]
  },
  {
   "cell_type": "code",
   "execution_count": 194,
   "metadata": {},
   "outputs": [
    {
     "data": {
      "text/html": [
       "<div>\n",
       "<table border=\"1\" class=\"dataframe\">\n",
       "  <thead>\n",
       "    <tr style=\"text-align: right;\">\n",
       "      <th></th>\n",
       "      <th>mean_test_score</th>\n",
       "      <th>mean_train_score</th>\n",
       "      <th>params</th>\n",
       "      <th>name</th>\n",
       "      <th>m_name</th>\n",
       "    </tr>\n",
       "  </thead>\n",
       "  <tbody>\n",
       "    <tr>\n",
       "      <th>0</th>\n",
       "      <td>0.570937</td>\n",
       "      <td>0.925798</td>\n",
       "      <td>{u'scale_pos_weight': 62.4339622642, u'learnin...</td>\n",
       "      <td>XG_base</td>\n",
       "      <td>XGBClassifier</td>\n",
       "    </tr>\n",
       "    <tr>\n",
       "      <th>1</th>\n",
       "      <td>0.691149</td>\n",
       "      <td>0.896836</td>\n",
       "      <td>{u'scale_pos_weight': 62.4339622642, u'learnin...</td>\n",
       "      <td>XG_base</td>\n",
       "      <td>XGBClassifier</td>\n",
       "    </tr>\n",
       "    <tr>\n",
       "      <th>2</th>\n",
       "      <td>0.689410</td>\n",
       "      <td>0.895132</td>\n",
       "      <td>{u'scale_pos_weight': 62.4339622642, u'learnin...</td>\n",
       "      <td>XG_base</td>\n",
       "      <td>XGBClassifier</td>\n",
       "    </tr>\n",
       "    <tr>\n",
       "      <th>3</th>\n",
       "      <td>0.598525</td>\n",
       "      <td>0.912797</td>\n",
       "      <td>{u'scale_pos_weight': 62.4339622642, u'learnin...</td>\n",
       "      <td>XG_base</td>\n",
       "      <td>XGBClassifier</td>\n",
       "    </tr>\n",
       "    <tr>\n",
       "      <th>4</th>\n",
       "      <td>0.577181</td>\n",
       "      <td>0.924197</td>\n",
       "      <td>{u'scale_pos_weight': 62.4339622642, u'learnin...</td>\n",
       "      <td>XG_base</td>\n",
       "      <td>XGBClassifier</td>\n",
       "    </tr>\n",
       "    <tr>\n",
       "      <th>0</th>\n",
       "      <td>0.520084</td>\n",
       "      <td>0.913345</td>\n",
       "      <td>{u'max_features': 0.926177384668, u'max_leaf_n...</td>\n",
       "      <td>RF_base</td>\n",
       "      <td>RandomForestClassifier</td>\n",
       "    </tr>\n",
       "    <tr>\n",
       "      <th>1</th>\n",
       "      <td>0.519600</td>\n",
       "      <td>0.913295</td>\n",
       "      <td>{u'max_features': 0.938848893913, u'max_leaf_n...</td>\n",
       "      <td>RF_base</td>\n",
       "      <td>RandomForestClassifier</td>\n",
       "    </tr>\n",
       "    <tr>\n",
       "      <th>2</th>\n",
       "      <td>0.525286</td>\n",
       "      <td>0.913904</td>\n",
       "      <td>{u'max_features': 0.650732659335, u'max_leaf_n...</td>\n",
       "      <td>RF_base</td>\n",
       "      <td>RandomForestClassifier</td>\n",
       "    </tr>\n",
       "    <tr>\n",
       "      <th>3</th>\n",
       "      <td>0.525012</td>\n",
       "      <td>0.913663</td>\n",
       "      <td>{u'max_features': 0.69138125494, u'max_leaf_no...</td>\n",
       "      <td>RF_base</td>\n",
       "      <td>RandomForestClassifier</td>\n",
       "    </tr>\n",
       "    <tr>\n",
       "      <th>4</th>\n",
       "      <td>0.526392</td>\n",
       "      <td>0.913347</td>\n",
       "      <td>{u'max_features': 0.556544822452, u'max_leaf_n...</td>\n",
       "      <td>RF_base</td>\n",
       "      <td>RandomForestClassifier</td>\n",
       "    </tr>\n",
       "    <tr>\n",
       "      <th>0</th>\n",
       "      <td>0.596121</td>\n",
       "      <td>0.650392</td>\n",
       "      <td>{u'penalty': u'l2', u'C': 0.539092293986, u'cl...</td>\n",
       "      <td>LR_base</td>\n",
       "      <td>LogisticRegression</td>\n",
       "    </tr>\n",
       "    <tr>\n",
       "      <th>1</th>\n",
       "      <td>0.613317</td>\n",
       "      <td>0.662745</td>\n",
       "      <td>{u'penalty': u'l1', u'C': 0.620294341653, u'cl...</td>\n",
       "      <td>LR_base</td>\n",
       "      <td>LogisticRegression</td>\n",
       "    </tr>\n",
       "    <tr>\n",
       "      <th>2</th>\n",
       "      <td>0.617464</td>\n",
       "      <td>0.666792</td>\n",
       "      <td>{u'penalty': u'l1', u'C': 0.938222052108, u'cl...</td>\n",
       "      <td>LR_base</td>\n",
       "      <td>LogisticRegression</td>\n",
       "    </tr>\n",
       "    <tr>\n",
       "      <th>3</th>\n",
       "      <td>0.612989</td>\n",
       "      <td>0.662515</td>\n",
       "      <td>{u'penalty': u'l1', u'C': 0.600900553963, u'cl...</td>\n",
       "      <td>LR_base</td>\n",
       "      <td>LogisticRegression</td>\n",
       "    </tr>\n",
       "    <tr>\n",
       "      <th>4</th>\n",
       "      <td>0.615895</td>\n",
       "      <td>0.665359</td>\n",
       "      <td>{u'penalty': u'l1', u'C': 0.757488167384, u'cl...</td>\n",
       "      <td>LR_base</td>\n",
       "      <td>LogisticRegression</td>\n",
       "    </tr>\n",
       "  </tbody>\n",
       "</table>\n",
       "</div>"
      ],
      "text/plain": [
       "   mean_test_score  mean_train_score  \\\n",
       "0         0.570937          0.925798   \n",
       "1         0.691149          0.896836   \n",
       "2         0.689410          0.895132   \n",
       "3         0.598525          0.912797   \n",
       "4         0.577181          0.924197   \n",
       "0         0.520084          0.913345   \n",
       "1         0.519600          0.913295   \n",
       "2         0.525286          0.913904   \n",
       "3         0.525012          0.913663   \n",
       "4         0.526392          0.913347   \n",
       "0         0.596121          0.650392   \n",
       "1         0.613317          0.662745   \n",
       "2         0.617464          0.666792   \n",
       "3         0.612989          0.662515   \n",
       "4         0.615895          0.665359   \n",
       "\n",
       "                                              params     name  \\\n",
       "0  {u'scale_pos_weight': 62.4339622642, u'learnin...  XG_base   \n",
       "1  {u'scale_pos_weight': 62.4339622642, u'learnin...  XG_base   \n",
       "2  {u'scale_pos_weight': 62.4339622642, u'learnin...  XG_base   \n",
       "3  {u'scale_pos_weight': 62.4339622642, u'learnin...  XG_base   \n",
       "4  {u'scale_pos_weight': 62.4339622642, u'learnin...  XG_base   \n",
       "0  {u'max_features': 0.926177384668, u'max_leaf_n...  RF_base   \n",
       "1  {u'max_features': 0.938848893913, u'max_leaf_n...  RF_base   \n",
       "2  {u'max_features': 0.650732659335, u'max_leaf_n...  RF_base   \n",
       "3  {u'max_features': 0.69138125494, u'max_leaf_no...  RF_base   \n",
       "4  {u'max_features': 0.556544822452, u'max_leaf_n...  RF_base   \n",
       "0  {u'penalty': u'l2', u'C': 0.539092293986, u'cl...  LR_base   \n",
       "1  {u'penalty': u'l1', u'C': 0.620294341653, u'cl...  LR_base   \n",
       "2  {u'penalty': u'l1', u'C': 0.938222052108, u'cl...  LR_base   \n",
       "3  {u'penalty': u'l1', u'C': 0.600900553963, u'cl...  LR_base   \n",
       "4  {u'penalty': u'l1', u'C': 0.757488167384, u'cl...  LR_base   \n",
       "\n",
       "                   m_name  \n",
       "0           XGBClassifier  \n",
       "1           XGBClassifier  \n",
       "2           XGBClassifier  \n",
       "3           XGBClassifier  \n",
       "4           XGBClassifier  \n",
       "0  RandomForestClassifier  \n",
       "1  RandomForestClassifier  \n",
       "2  RandomForestClassifier  \n",
       "3  RandomForestClassifier  \n",
       "4  RandomForestClassifier  \n",
       "0      LogisticRegression  \n",
       "1      LogisticRegression  \n",
       "2      LogisticRegression  \n",
       "3      LogisticRegression  \n",
       "4      LogisticRegression  "
      ]
     },
     "execution_count": 194,
     "metadata": {},
     "output_type": "execute_result"
    }
   ],
   "source": [
    "#Display results\n",
    "tune.grid_results"
   ]
  },
  {
   "cell_type": "code",
   "execution_count": 195,
   "metadata": {},
   "outputs": [
    {
     "name": "stdout",
     "output_type": "stream",
     "text": [
      "Fitting RF_base model with 5 features\n",
      "f1_score:  0.0808080808081\n",
      "roc auc:  0.50969756739\n",
      "brier_score:  0.082643868542\n",
      "Fitting LR_base model with 5 features\n",
      "f1_score:  0.04329004329\n",
      "roc auc:  0.507149901381\n",
      "brier_score:  0.215432772864\n",
      "Fitting XG_base model with 5 features\n",
      "f1_score:  0.0590717299578\n",
      "roc auc:  0.73553583169\n",
      "brier_score:  0.148797567842\n"
     ]
    }
   ],
   "source": [
    "# Run test\n",
    "test = Tester(df)\n",
    "test.init_tuned(tune)\n",
    "test.run_tuned('RF_base', cal=False)\n",
    "test.run_tuned('LR_base', cal=False)\n",
    "test.run_tuned('XG_base', cal=False)"
   ]
  },
  {
   "cell_type": "code",
   "execution_count": 196,
   "metadata": {},
   "outputs": [
    {
     "name": "stdout",
     "output_type": "stream",
     "text": [
      "Fitting RF_base model with 5 features\n",
      "f1_score:  0.0816326530612\n",
      "roc auc:  0.47702991453\n",
      "brier_score:  0.0824300972342\n",
      "Fitting LR_base model with 5 features\n",
      "f1_score:  0.04329004329\n",
      "roc auc:  0.507149901381\n",
      "brier_score:  0.215432530339\n",
      "Fitting XG_base model with 5 features\n",
      "f1_score:  0.0590717299578\n",
      "roc auc:  0.73553583169\n",
      "brier_score:  0.148797567842\n"
     ]
    }
   ],
   "source": [
    "# Run test\n",
    "test = Tester(df)\n",
    "test.init_tuned(tune)\n",
    "test.run_tuned('RF_base', cal=False)\n",
    "test.run_tuned('LR_base', cal=False)\n",
    "test.run_tuned('XG_base', cal=False)"
   ]
  },
  {
   "cell_type": "code",
   "execution_count": 214,
   "metadata": {},
   "outputs": [
    {
     "data": {
      "text/plain": [
       "0.73553583168967784"
      ]
     },
     "execution_count": 214,
     "metadata": {},
     "output_type": "execute_result"
    }
   ],
   "source": [
    "t = test.rundict['XG_base']['m_fit'].predict_proba(test.data.test_x[features])[::,1]\n",
    "metrics.roc_auc_score(test.data.test_y,t)"
   ]
  },
  {
   "cell_type": "code",
   "execution_count": 197,
   "metadata": {},
   "outputs": [
    {
     "name": "stdout",
     "output_type": "stream",
     "text": [
      "[('avg_week', 0.52067667), ('concern_observed', 0.2631579), (u'pre_quarter', 0.14661655), (u'pre_month', 0.037593983), (u'pre_week', 0.031954888)]\n"
     ]
    }
   ],
   "source": [
    "# Check feature importance\n",
    "f_importance = test.rundict['XG_base']['m_fit'].feature_importances_\n",
    "fi = list(zip(features, f_importance))\n",
    "print sorted(fi, key=lambda x: x[1], reverse=True)"
   ]
  },
  {
   "cell_type": "code",
   "execution_count": 29,
   "metadata": {
    "collapsed": true
   },
   "outputs": [],
   "source": [
    "from sklearn.metrics import roc_auc_score"
   ]
  },
  {
   "cell_type": "code",
   "execution_count": 33,
   "metadata": {},
   "outputs": [
    {
     "data": {
      "text/plain": [
       "0.7282994514359471"
      ]
     },
     "execution_count": 33,
     "metadata": {},
     "output_type": "execute_result"
    }
   ],
   "source": [
    "# trying some other models\n",
    "minus_adj = list(set(lm_features) - set([x for x in lm_features if x.find('volume')!=-1]))\n",
    "xg = xgb.XGBClassifier(**test.rundict['XG_base']['bp'])\n",
    "xg.fit(test.data.train_x[minus_adj], test.data.train_y)\n",
    "preds = xg.predict_proba(\n",
    "    test.data.test_x[minus_adj])[::,1]\n",
    "roc_auc_score(test.data.test_y, preds)"
   ]
  },
  {
   "cell_type": "code",
   "execution_count": 427,
   "metadata": {},
   "outputs": [
    {
     "data": {
      "text/plain": [
       "0.63632752151842864"
      ]
     },
     "execution_count": 427,
     "metadata": {},
     "output_type": "execute_result"
    }
   ],
   "source": [
    "# trying some other models\n",
    "minus_adj = list(set(lm_features) - set([x for x in lm_features if x.find('adj')!=-1]))\n",
    "lr = skl.LogisticRegression(**test.rundict['LR_base']['bp'])\n",
    "lr.fit(test.data.train_x[minus_adj], test.data.train_y)\n",
    "preds = lr.predict_proba(\n",
    "    test.data.test_x[minus_adj])[::,1]\n",
    "roc_auc_score(test.data.test_y, preds)"
   ]
  },
  {
   "cell_type": "code",
   "execution_count": 428,
   "metadata": {},
   "outputs": [
    {
     "name": "stderr",
     "output_type": "stream",
     "text": [
      "/Users/B/anaconda/envs/boston-crash-model/lib/python2.7/site-packages/ipykernel_launcher.py:2: FutureWarning: reshape is deprecated and will raise in a subsequent release. Please use .values.reshape(...) instead\n",
      "  \n",
      "/Users/B/anaconda/envs/boston-crash-model/lib/python2.7/site-packages/ipykernel_launcher.py:4: FutureWarning: reshape is deprecated and will raise in a subsequent release. Please use .values.reshape(...) instead\n",
      "  after removing the cwd from sys.path.\n"
     ]
    },
    {
     "data": {
      "text/plain": [
       "0.56241447804016775"
      ]
     },
     "execution_count": 428,
     "metadata": {},
     "output_type": "execute_result"
    }
   ],
   "source": [
    "lr = skl.LogisticRegression(**test.rundict['LR_base']['bp'])\n",
    "lr.fit(test.data.train_x['avg_week'].reshape(-1,1), test.data.train_y)\n",
    "preds = lr.predict_proba(\n",
    "    test.data.test_x['avg_week'].reshape(-1,1))[::,1]\n",
    "roc_auc_score(test.data.test_y, preds)"
   ]
  },
  {
   "cell_type": "markdown",
   "metadata": {},
   "source": [
    "### Lift chart by \"risk bin\"\n",
    "The classifier problem is difficult because the classes are unbalanced (.05% have crashes at target week).  More useful are the probabilities being produced by the model, which give some idea of risk."
   ]
  },
  {
   "cell_type": "code",
   "execution_count": 198,
   "metadata": {
    "collapsed": true
   },
   "outputs": [],
   "source": [
    "def lift_chart(x_col, y_col, data, ax=None):\n",
    "\n",
    "    p = sns.barplot(x=x_col, y=y_col, data=data, \n",
    "                    palette='Reds', ax = None, ci=None)\n",
    "    vals = p.get_yticks()\n",
    "    p.set_yticklabels(['{:3.0f}%'.format(i*100) for i in vals])\n",
    "    xvals = [x.get_text().split(',')[-1].strip(']') for x in p.get_xticklabels()]\n",
    "    xvals = ['{:3.0f}%'.format(float(x)*100) for x in xvals]\n",
    "    p.set_xticklabels(xvals)\n",
    "    p.set_facecolor('white')\n",
    "    p.set_xlabel('')\n",
    "    p.set_ylabel('')\n",
    "    p.set_title('Predicted probability vs actual percent')\n",
    "    return(p)\n",
    "    \n",
    "def density(data, score, ax=None):\n",
    "    p = sns.kdeplot(risk_df['risk_score'], ax=ax)\n",
    "    p.set_facecolor('white')\n",
    "    p.legend('')\n",
    "    p.set_xlabel('Predicted probability of crash')\n",
    "    p.set_title('KDE plot predictions')\n",
    "    return(p)"
   ]
  },
  {
   "cell_type": "code",
   "execution_count": 217,
   "metadata": {},
   "outputs": [],
   "source": [
    "#pd.qcut(risk_df['risk_score'], 4)"
   ]
  },
  {
   "cell_type": "code",
   "execution_count": 221,
   "metadata": {},
   "outputs": [
    {
     "name": "stdout",
     "output_type": "stream",
     "text": [
      "count    1026.000000\n",
      "mean        0.449907\n",
      "std         0.114593\n",
      "min         0.320527\n",
      "25%         0.367971\n",
      "50%         0.390528\n",
      "75%         0.492496\n",
      "max         0.999997\n",
      "Name: risk_score, dtype: float64\n",
      "categories\n",
      "[0.321, 0.368]    404\n",
      "(0.368, 0.391]    124\n",
      "(0.391, 0.492]    279\n",
      "(0.492, 1]        219\n",
      "Name: crash, dtype: int64\n"
     ]
    }
   ],
   "source": [
    "risk_scores = test.rundict['LR_base']['m_fit'].predict_proba(test.data.test_x[features])[:,1]\n",
    "risk_df = pd.DataFrame({'risk_score':risk_scores, 'crash':test.data.test_y})\n",
    "print risk_df.risk_score.describe()\n",
    "risk_df['categories'] = pd.qcut(risk_df['risk_score'], 4)\n",
    "risk_mean = risk_df.groupby('categories')['crash'].count()\n",
    "print risk_mean"
   ]
  },
  {
   "cell_type": "code",
   "execution_count": 222,
   "metadata": {},
   "outputs": [
    {
     "data": {
      "text/plain": [
       "<matplotlib.axes._subplots.AxesSubplot at 0x11daa7790>"
      ]
     },
     "execution_count": 222,
     "metadata": {},
     "output_type": "execute_result"
    },
    {
     "data": {
      "image/png": "[encoded data removed]",
      "text/plain": [
       "<matplotlib.figure.Figure at 0x113dd8e10>"
      ]
     },
     "metadata": {},
     "output_type": "display_data"
    }
   ],
   "source": [
    "fig, axes = plt.subplots(1, 2)\n",
    "lift_chart('categories', 'crash', risk_df, \n",
    "           ax=axes[1])\n",
    "density(risk_df, 'risk_score', ax=axes[0])"
   ]
  },
  {
   "cell_type": "code",
   "execution_count": 53,
   "metadata": {
    "collapsed": true
   },
   "outputs": [],
   "source": [
    "# output predictions\n",
    "# predict on all segments\n",
    "data_model['risk_score'] = test.rundict['RF_base']['m_fit'].predict_proba(data_model[features])[:,1]\n",
    "data_model.to_csv('seg_with_risk_score_adj.csv', index=False)"
   ]
  },
  {
   "cell_type": "markdown",
   "metadata": {},
   "source": [
    "### Check sensitivity to week\n",
    "I predicted an arbitrary week as target here, but I'd like to see whether things change significantly if I change that week.  A good metric to measure that is brier score loss.  It'll be low throughout as the classifier doesn't perform great, but it shouldn't vary a huge amount."
   ]
  },
  {
   "cell_type": "code",
   "execution_count": 100,
   "metadata": {
    "collapsed": true
   },
   "outputs": [],
   "source": [
    "def run_model_for_week(weeks=[20, 30, 40, 50], output=False):\n",
    "    for w in [20, 30, 40, 50]:\n",
    "        print \"week \", w\n",
    "        crash_lags = format_crash_data(data_nonzero.set_index(['segment_id','year','week']), 'crash', w, 2016)\n",
    "        data = crash_lags.merge(data_segs, left_on='segment_id', right_on='segment_id')\n",
    "        adj_lags = get_adj_crash_lags(w, 2016)\n",
    "        data = data.merge(adj_lags, left_on='segment_id', right_index=True, suffixes=('', '_adj'))\n",
    "        data.fillna(0, inplace=True)\n",
    "        df = Indata(data, 'target')\n",
    "        # create train/test split\n",
    "        df.tr_te_split(.7)\n",
    "        test = Tester(df)\n",
    "        test.init_tuned(tune)\n",
    "        test.run_tuned('LR_base', cal=False)\n",
    "        print '\\n'\n",
    "    if output==True:\n",
    "        return(test.rundict['LR_base']['m_fit'].pred)"
   ]
  },
  {
   "cell_type": "code",
   "execution_count": 101,
   "metadata": {},
   "outputs": [
    {
     "name": "stdout",
     "output_type": "stream",
     "text": [
      "week  20\n",
      "Train obs: 2367\n",
      "Test obs: 1011\n",
      "Fitting LR_base model with 12 features\n"
     ]
    },
    {
     "ename": "KeyError",
     "evalue": "\"[u'pre_week_scaled' u'pre_month_scaled' u'pre_quarter_scaled'\\n 'avg_week_scaled' u'AADT_scaled' u'SPEEDLIMIT_scaled' u'Struct_Cnd_scaled'\\n u'Surface_Tp_scaled' u'F_F_Class_scaled' u'pre_week_adj_scaled'\\n u'pre_month_adj_scaled' u'pre_quarter_adj_scaled'] not in index\"",
     "output_type": "error",
     "traceback": [
      "\u001b[0;31m---------------------------------------------------------------------------\u001b[0m",
      "\u001b[0;31mKeyError\u001b[0m                                  Traceback (most recent call last)",
      "\u001b[0;32m<ipython-input-101-78ff6e31933f>\u001b[0m in \u001b[0;36m<module>\u001b[0;34m()\u001b[0m\n\u001b[0;32m----> 1\u001b[0;31m \u001b[0mrun_model_for_week\u001b[0m\u001b[0;34m(\u001b[0m\u001b[0;34m)\u001b[0m\u001b[0;34m\u001b[0m\u001b[0m\n\u001b[0m",
      "\u001b[0;32m<ipython-input-100-9c5526570564>\u001b[0m in \u001b[0;36mrun_model_for_week\u001b[0;34m(weeks, output)\u001b[0m\n\u001b[1;32m     12\u001b[0m         \u001b[0mtest\u001b[0m \u001b[0;34m=\u001b[0m \u001b[0mTester\u001b[0m\u001b[0;34m(\u001b[0m\u001b[0mdf\u001b[0m\u001b[0;34m)\u001b[0m\u001b[0;34m\u001b[0m\u001b[0m\n\u001b[1;32m     13\u001b[0m         \u001b[0mtest\u001b[0m\u001b[0;34m.\u001b[0m\u001b[0minit_tuned\u001b[0m\u001b[0;34m(\u001b[0m\u001b[0mtune\u001b[0m\u001b[0;34m)\u001b[0m\u001b[0;34m\u001b[0m\u001b[0m\n\u001b[0;32m---> 14\u001b[0;31m         \u001b[0mtest\u001b[0m\u001b[0;34m.\u001b[0m\u001b[0mrun_tuned\u001b[0m\u001b[0;34m(\u001b[0m\u001b[0;34m'LR_base'\u001b[0m\u001b[0;34m,\u001b[0m \u001b[0mcal\u001b[0m\u001b[0;34m=\u001b[0m\u001b[0mFalse\u001b[0m\u001b[0;34m)\u001b[0m\u001b[0;34m\u001b[0m\u001b[0m\n\u001b[0m\u001b[1;32m     15\u001b[0m         \u001b[0;32mprint\u001b[0m \u001b[0;34m'\\n'\u001b[0m\u001b[0;34m\u001b[0m\u001b[0m\n\u001b[1;32m     16\u001b[0m     \u001b[0;32mif\u001b[0m \u001b[0moutput\u001b[0m\u001b[0;34m==\u001b[0m\u001b[0mTrue\u001b[0m\u001b[0;34m:\u001b[0m\u001b[0;34m\u001b[0m\u001b[0m\n",
      "\u001b[0;32m<ipython-input-3-e9484aaf2483>\u001b[0m in \u001b[0;36mrun_tuned\u001b[0;34m(self, name, cal, cal_m)\u001b[0m\n\u001b[1;32m    189\u001b[0m     \u001b[0;31m#Run from tuned set\u001b[0m\u001b[0;34m\u001b[0m\u001b[0;34m\u001b[0m\u001b[0m\n\u001b[1;32m    190\u001b[0m     \u001b[0;32mdef\u001b[0m \u001b[0mrun_tuned\u001b[0m\u001b[0;34m(\u001b[0m\u001b[0mself\u001b[0m\u001b[0;34m,\u001b[0m \u001b[0mname\u001b[0m\u001b[0;34m,\u001b[0m \u001b[0mcal\u001b[0m\u001b[0;34m=\u001b[0m\u001b[0mTrue\u001b[0m\u001b[0;34m,\u001b[0m \u001b[0mcal_m\u001b[0m\u001b[0;34m=\u001b[0m\u001b[0;34m'sigmoid'\u001b[0m\u001b[0;34m)\u001b[0m\u001b[0;34m:\u001b[0m\u001b[0;34m\u001b[0m\u001b[0m\n\u001b[0;32m--> 191\u001b[0;31m         \u001b[0mself\u001b[0m\u001b[0;34m.\u001b[0m\u001b[0mrun_model\u001b[0m\u001b[0;34m(\u001b[0m\u001b[0mname\u001b[0m\u001b[0;34m,\u001b[0m \u001b[0mself\u001b[0m\u001b[0;34m.\u001b[0m\u001b[0mrundict\u001b[0m\u001b[0;34m[\u001b[0m\u001b[0mname\u001b[0m\u001b[0;34m]\u001b[0m\u001b[0;34m[\u001b[0m\u001b[0;34m'model'\u001b[0m\u001b[0;34m]\u001b[0m\u001b[0;34m,\u001b[0m \u001b[0mself\u001b[0m\u001b[0;34m.\u001b[0m\u001b[0mrundict\u001b[0m\u001b[0;34m[\u001b[0m\u001b[0mname\u001b[0m\u001b[0;34m]\u001b[0m\u001b[0;34m[\u001b[0m\u001b[0;34m'features'\u001b[0m\u001b[0;34m]\u001b[0m\u001b[0;34m,\u001b[0m \u001b[0mcal\u001b[0m\u001b[0;34m,\u001b[0m \u001b[0mcal_m\u001b[0m\u001b[0;34m)\u001b[0m\u001b[0;34m\u001b[0m\u001b[0m\n\u001b[0m\u001b[1;32m    192\u001b[0m \u001b[0;34m\u001b[0m\u001b[0m\n\u001b[1;32m    193\u001b[0m     \u001b[0;31m#Output rundict to csv\u001b[0m\u001b[0;34m\u001b[0m\u001b[0;34m\u001b[0m\u001b[0m\n",
      "\u001b[0;32m<ipython-input-3-e9484aaf2483>\u001b[0m in \u001b[0;36mrun_model\u001b[0;34m(self, name, model, features, cal, cal_m)\u001b[0m\n\u001b[1;32m    164\u001b[0m             \u001b[0mcal_y\u001b[0m \u001b[0;34m=\u001b[0m \u001b[0mself\u001b[0m\u001b[0;34m.\u001b[0m\u001b[0mdata\u001b[0m\u001b[0;34m.\u001b[0m\u001b[0mtrain_y\u001b[0m\u001b[0;34m[\u001b[0m\u001b[0;34m~\u001b[0m\u001b[0mrnd_ind\u001b[0m\u001b[0;34m]\u001b[0m\u001b[0;34m\u001b[0m\u001b[0m\n\u001b[1;32m    165\u001b[0m         \u001b[0;32melse\u001b[0m\u001b[0;34m:\u001b[0m\u001b[0;34m\u001b[0m\u001b[0m\n\u001b[0;32m--> 166\u001b[0;31m             \u001b[0mtrain_x\u001b[0m \u001b[0;34m=\u001b[0m \u001b[0mself\u001b[0m\u001b[0;34m.\u001b[0m\u001b[0mdata\u001b[0m\u001b[0;34m.\u001b[0m\u001b[0mtrain_x\u001b[0m\u001b[0;34m[\u001b[0m\u001b[0mfeatures\u001b[0m\u001b[0;34m]\u001b[0m\u001b[0;34m\u001b[0m\u001b[0m\n\u001b[0m\u001b[1;32m    167\u001b[0m             \u001b[0mtrain_y\u001b[0m \u001b[0;34m=\u001b[0m \u001b[0mself\u001b[0m\u001b[0;34m.\u001b[0m\u001b[0mdata\u001b[0m\u001b[0;34m.\u001b[0m\u001b[0mtrain_y\u001b[0m\u001b[0;34m\u001b[0m\u001b[0m\n\u001b[1;32m    168\u001b[0m \u001b[0;34m\u001b[0m\u001b[0m\n",
      "\u001b[0;32m/Users/B/anaconda/envs/boston-crash-model/lib/python2.7/site-packages/pandas/core/frame.pyc\u001b[0m in \u001b[0;36m__getitem__\u001b[0;34m(self, key)\u001b[0m\n\u001b[1;32m   2051\u001b[0m         \u001b[0;32mif\u001b[0m \u001b[0misinstance\u001b[0m\u001b[0;34m(\u001b[0m\u001b[0mkey\u001b[0m\u001b[0;34m,\u001b[0m \u001b[0;34m(\u001b[0m\u001b[0mSeries\u001b[0m\u001b[0;34m,\u001b[0m \u001b[0mnp\u001b[0m\u001b[0;34m.\u001b[0m\u001b[0mndarray\u001b[0m\u001b[0;34m,\u001b[0m \u001b[0mIndex\u001b[0m\u001b[0;34m,\u001b[0m \u001b[0mlist\u001b[0m\u001b[0;34m)\u001b[0m\u001b[0;34m)\u001b[0m\u001b[0;34m:\u001b[0m\u001b[0;34m\u001b[0m\u001b[0m\n\u001b[1;32m   2052\u001b[0m             \u001b[0;31m# either boolean or fancy integer index\u001b[0m\u001b[0;34m\u001b[0m\u001b[0;34m\u001b[0m\u001b[0m\n\u001b[0;32m-> 2053\u001b[0;31m             \u001b[0;32mreturn\u001b[0m \u001b[0mself\u001b[0m\u001b[0;34m.\u001b[0m\u001b[0m_getitem_array\u001b[0m\u001b[0;34m(\u001b[0m\u001b[0mkey\u001b[0m\u001b[0;34m)\u001b[0m\u001b[0;34m\u001b[0m\u001b[0m\n\u001b[0m\u001b[1;32m   2054\u001b[0m         \u001b[0;32melif\u001b[0m \u001b[0misinstance\u001b[0m\u001b[0;34m(\u001b[0m\u001b[0mkey\u001b[0m\u001b[0;34m,\u001b[0m \u001b[0mDataFrame\u001b[0m\u001b[0;34m)\u001b[0m\u001b[0;34m:\u001b[0m\u001b[0;34m\u001b[0m\u001b[0m\n\u001b[1;32m   2055\u001b[0m             \u001b[0;32mreturn\u001b[0m \u001b[0mself\u001b[0m\u001b[0;34m.\u001b[0m\u001b[0m_getitem_frame\u001b[0m\u001b[0;34m(\u001b[0m\u001b[0mkey\u001b[0m\u001b[0;34m)\u001b[0m\u001b[0;34m\u001b[0m\u001b[0m\n",
      "\u001b[0;32m/Users/B/anaconda/envs/boston-crash-model/lib/python2.7/site-packages/pandas/core/frame.pyc\u001b[0m in \u001b[0;36m_getitem_array\u001b[0;34m(self, key)\u001b[0m\n\u001b[1;32m   2095\u001b[0m             \u001b[0;32mreturn\u001b[0m \u001b[0mself\u001b[0m\u001b[0;34m.\u001b[0m\u001b[0mtake\u001b[0m\u001b[0;34m(\u001b[0m\u001b[0mindexer\u001b[0m\u001b[0;34m,\u001b[0m \u001b[0maxis\u001b[0m\u001b[0;34m=\u001b[0m\u001b[0;36m0\u001b[0m\u001b[0;34m,\u001b[0m \u001b[0mconvert\u001b[0m\u001b[0;34m=\u001b[0m\u001b[0mFalse\u001b[0m\u001b[0;34m)\u001b[0m\u001b[0;34m\u001b[0m\u001b[0m\n\u001b[1;32m   2096\u001b[0m         \u001b[0;32melse\u001b[0m\u001b[0;34m:\u001b[0m\u001b[0;34m\u001b[0m\u001b[0m\n\u001b[0;32m-> 2097\u001b[0;31m             \u001b[0mindexer\u001b[0m \u001b[0;34m=\u001b[0m \u001b[0mself\u001b[0m\u001b[0;34m.\u001b[0m\u001b[0mix\u001b[0m\u001b[0;34m.\u001b[0m\u001b[0m_convert_to_indexer\u001b[0m\u001b[0;34m(\u001b[0m\u001b[0mkey\u001b[0m\u001b[0;34m,\u001b[0m \u001b[0maxis\u001b[0m\u001b[0;34m=\u001b[0m\u001b[0;36m1\u001b[0m\u001b[0;34m)\u001b[0m\u001b[0;34m\u001b[0m\u001b[0m\n\u001b[0m\u001b[1;32m   2098\u001b[0m             \u001b[0;32mreturn\u001b[0m \u001b[0mself\u001b[0m\u001b[0;34m.\u001b[0m\u001b[0mtake\u001b[0m\u001b[0;34m(\u001b[0m\u001b[0mindexer\u001b[0m\u001b[0;34m,\u001b[0m \u001b[0maxis\u001b[0m\u001b[0;34m=\u001b[0m\u001b[0;36m1\u001b[0m\u001b[0;34m,\u001b[0m \u001b[0mconvert\u001b[0m\u001b[0;34m=\u001b[0m\u001b[0mTrue\u001b[0m\u001b[0;34m)\u001b[0m\u001b[0;34m\u001b[0m\u001b[0m\n\u001b[1;32m   2099\u001b[0m \u001b[0;34m\u001b[0m\u001b[0m\n",
      "\u001b[0;32m/Users/B/anaconda/envs/boston-crash-model/lib/python2.7/site-packages/pandas/core/indexing.pyc\u001b[0m in \u001b[0;36m_convert_to_indexer\u001b[0;34m(self, obj, axis, is_setter)\u001b[0m\n\u001b[1;32m   1228\u001b[0m                 \u001b[0mmask\u001b[0m \u001b[0;34m=\u001b[0m \u001b[0mcheck\u001b[0m \u001b[0;34m==\u001b[0m \u001b[0;34m-\u001b[0m\u001b[0;36m1\u001b[0m\u001b[0;34m\u001b[0m\u001b[0m\n\u001b[1;32m   1229\u001b[0m                 \u001b[0;32mif\u001b[0m \u001b[0mmask\u001b[0m\u001b[0;34m.\u001b[0m\u001b[0many\u001b[0m\u001b[0;34m(\u001b[0m\u001b[0;34m)\u001b[0m\u001b[0;34m:\u001b[0m\u001b[0;34m\u001b[0m\u001b[0m\n\u001b[0;32m-> 1230\u001b[0;31m                     \u001b[0;32mraise\u001b[0m \u001b[0mKeyError\u001b[0m\u001b[0;34m(\u001b[0m\u001b[0;34m'%s not in index'\u001b[0m \u001b[0;34m%\u001b[0m \u001b[0mobjarr\u001b[0m\u001b[0;34m[\u001b[0m\u001b[0mmask\u001b[0m\u001b[0;34m]\u001b[0m\u001b[0;34m)\u001b[0m\u001b[0;34m\u001b[0m\u001b[0m\n\u001b[0m\u001b[1;32m   1231\u001b[0m \u001b[0;34m\u001b[0m\u001b[0m\n\u001b[1;32m   1232\u001b[0m                 \u001b[0;32mreturn\u001b[0m \u001b[0m_values_from_object\u001b[0m\u001b[0;34m(\u001b[0m\u001b[0mindexer\u001b[0m\u001b[0;34m)\u001b[0m\u001b[0;34m\u001b[0m\u001b[0m\n",
      "\u001b[0;31mKeyError\u001b[0m: \"[u'pre_week_scaled' u'pre_month_scaled' u'pre_quarter_scaled'\\n 'avg_week_scaled' u'AADT_scaled' u'SPEEDLIMIT_scaled' u'Struct_Cnd_scaled'\\n u'Surface_Tp_scaled' u'F_F_Class_scaled' u'pre_week_adj_scaled'\\n u'pre_month_adj_scaled' u'pre_quarter_adj_scaled'] not in index\""
     ]
    }
   ],
   "source": [
    "run_model_for_week()"
   ]
  },
  {
   "cell_type": "code",
   "execution_count": null,
   "metadata": {
    "collapsed": true
   },
   "outputs": [],
   "source": [
    "# week predictions output\n"
   ]
  },
  {
   "cell_type": "code",
   "execution_count": null,
   "metadata": {
    "collapsed": true
   },
   "outputs": [],
   "source": []
  }
 ],
 "metadata": {
  "kernelspec": {
   "display_name": "Python 2",
   "language": "python",
   "name": "python2"
  },
  "language_info": {
   "codemirror_mode": {
    "name": "ipython",
    "version": 2
   },
   "file_extension": ".py",
   "mimetype": "text/x-python",
   "name": "python",
   "nbconvert_exporter": "python",
   "pygments_lexer": "ipython2",
   "version": "2.7.13"
  }
 },
 "nbformat": 4,
 "nbformat_minor": 1
}
